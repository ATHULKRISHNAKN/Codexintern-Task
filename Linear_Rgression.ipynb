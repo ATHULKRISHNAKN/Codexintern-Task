{
 "cells": [
  {
   "cell_type": "code",
   "execution_count": 4,
   "metadata": {
    "colab": {
     "base_uri": "https://localhost:8080/"
    },
    "executionInfo": {
     "elapsed": 2141,
     "status": "ok",
     "timestamp": 1751691044362,
     "user": {
      "displayName": "Praveen Pk",
      "userId": "11652659459500419056"
     },
     "user_tz": -330
    },
    "id": "UFscjb-C4Thw",
    "outputId": "c3712a8f-14de-4a8b-b77c-10ffd1712355"
   },
   "outputs": [
    {
     "name": "stdout",
     "output_type": "stream",
     "text": [
      "R² Score: 0.98\n",
      "Mean Squared Error: 1437732.05\n",
      "Predicted Rent for 1500 sqft, 3 BHK in Mumbai: ₹32962.26\n"
     ]
    }
   ],
   "source": [
    "import pandas as pd\n",
    "from sklearn.model_selection import train_test_split\n",
    "from sklearn.linear_model import LinearRegression\n",
    "from sklearn.metrics import mean_squared_error, r2_score\n",
    "from sklearn.preprocessing import OneHotEncoder\n",
    "from sklearn.compose import ColumnTransformer\n",
    "from sklearn.pipeline import Pipeline\n",
    "df = pd.read_csv(\"C:/Users/Lenovo/OneDrive/Desktop/Intership/data.csv\")\n",
    "X = df[['Size', 'Bedroom', 'Location']]\n",
    "y = df['Rent']\n",
    "preprocessor = ColumnTransformer(\n",
    "    transformers=[('location_encoder', OneHotEncoder(drop='first'), ['Location'])],\n",
    "    remainder='passthrough')\n",
    "model = Pipeline(steps=[\n",
    "    ('preprocessor', preprocessor),\n",
    "    ('regressor', LinearRegression())\n",
    "])\n",
    "X_train, X_test, y_train, y_test = train_test_split(X, y, test_size=0.2, random_state=42)\n",
    "model.fit(X_train, y_train)\n",
    "y_pred = model.predict(X_test)\n",
    "print(f\"R² Score: {r2_score(y_test, y_pred):.2f}\")\n",
    "print(f\"Mean Squared Error: {mean_squared_error(y_test, y_pred):.2f}\")\n",
    "sample = pd.DataFrame({'Size': [1500], 'Bedroom': [3], 'Location': ['Mumbai']})\n",
    "predicted_rent = model.predict(sample)\n",
    "print(f\"Predicted Rent for 1500 sqft, 3 BHK in Mumbai: ₹{predicted_rent[0]:.2f}\")\n"
   ]
  }
 ],
 "metadata": {
  "colab": {
   "authorship_tag": "ABX9TyPvPfHsNs+NaGStsIwdZnDG",
   "mount_file_id": "1yQIT4Qt2NwMcpf3Rt-OrbPBrZUegIVv7",
   "provenance": []
  },
  "kernelspec": {
   "display_name": "Python 3",
   "name": "python3"
  },
  "language_info": {
   "codemirror_mode": {
    "name": "ipython",
    "version": 3
   },
   "file_extension": ".py",
   "mimetype": "text/x-python",
   "name": "python",
   "nbconvert_exporter": "python",
   "pygments_lexer": "ipython3",
   "version": "3.13.5"
  }
 },
 "nbformat": 4,
 "nbformat_minor": 0
}
