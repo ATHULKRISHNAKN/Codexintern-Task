{
 "cells": [
  {
   "cell_type": "markdown",
   "metadata": {
    "id": "_bT9VskC7ZT2"
   },
   "source": []
  },
  {
   "cell_type": "code",
   "execution_count": 1,
   "metadata": {
    "colab": {
     "base_uri": "https://localhost:8080/"
    },
    "executionInfo": {
     "elapsed": 34481,
     "status": "ok",
     "timestamp": 1751691347726,
     "user": {
      "displayName": "Praveen Pk",
      "userId": "11652659459500419056"
     },
     "user_tz": -330
    },
    "id": "5RBHF6R17lrw",
    "outputId": "b375da4e-0107-4c0b-d295-54bea6cf2dfe"
   },
   "outputs": [
    {
     "name": "stdout",
     "output_type": "stream",
     "text": [
      "Matrix Operations Tool\n",
      "======================\n",
      "1. Addition\n",
      "2. Subtraction\n",
      "3. Multiplication\n",
      "4. Transpose\n",
      "5. Determinant\n",
      "Enter elements row-wise for Matrix A:\n",
      "Enter elements row-wise for Matrix B:\n",
      "Result (A + B):\n",
      " [[ 246.]\n",
      " [1110.]\n",
      " [1776.]]\n"
     ]
    }
   ],
   "source": [
    "import numpy as np\n",
    "\n",
    "def get_matrix(name):\n",
    "    rows = int(input(f\"Enter number of rows for {name}: \"))\n",
    "    cols = int(input(f\"Enter number of columns for {name}: \"))\n",
    "    print(f\"Enter elements row-wise for {name}:\")\n",
    "    matrix = []\n",
    "    for i in range(rows):\n",
    "        row = list(map(float, input(f\"Row {i+1}: \").split()))\n",
    "        matrix.append(row)\n",
    "    return np.array(matrix)\n",
    "\n",
    "def matrix_operations():\n",
    "    print(\"Matrix Operations Tool\")\n",
    "    print(\"======================\")\n",
    "    print(\"1. Addition\")\n",
    "    print(\"2. Subtraction\")\n",
    "    print(\"3. Multiplication\")\n",
    "    print(\"4. Transpose\")\n",
    "    print(\"5. Determinant\")\n",
    "    choice = int(input(\"Enter your choice (1-5): \"))\n",
    "\n",
    "    if choice in [1, 2, 3]:\n",
    "        A = get_matrix(\"Matrix A\")\n",
    "        B = get_matrix(\"Matrix B\")\n",
    "        if choice == 1:\n",
    "            if A.shape == B.shape:\n",
    "                print(\"Result (A + B):\\n\", A + B)\n",
    "            else:\n",
    "                print(\"Error: Matrices must be the same size for addition.\")\n",
    "        elif choice == 2:\n",
    "            if A.shape == B.shape:\n",
    "                print(\"Result (A - B):\\n\", A - B)\n",
    "            else:\n",
    "                print(\"Error: Matrices must be the same size for subtraction.\")\n",
    "        elif choice == 3:\n",
    "            if A.shape[1] == B.shape[0]:\n",
    "                print(\"Result (A x B):\\n\", np.dot(A, B))\n",
    "            else:\n",
    "                print(\"Error: A's columns must equal B's rows for multiplication.\")\n",
    "\n",
    "    elif choice == 4:\n",
    "        A = get_matrix(\"Matrix\")\n",
    "        print(\"Transpose of the matrix:\\n\", A.T)\n",
    "\n",
    "    elif choice == 5:\n",
    "        A = get_matrix(\"Square Matrix\")\n",
    "        if A.shape[0] == A.shape[1]:\n",
    "            print(\"Determinant of the matrix:\", np.linalg.det(A))\n",
    "        else:\n",
    "            print(\"Error: Determinant can be calculated only for square matrices.\")\n",
    "\n",
    "    else:\n",
    "        print(\"Invalid choice.\")\n",
    "        \n",
    "matrix_operations()\n"
   ]
  }
 ],
 "metadata": {
  "colab": {
   "authorship_tag": "ABX9TyPZCSiTklyJ/LZvVBfS19h5",
   "provenance": []
  },
  "kernelspec": {
   "display_name": "Python 3",
   "name": "python3"
  },
  "language_info": {
   "codemirror_mode": {
    "name": "ipython",
    "version": 3
   },
   "file_extension": ".py",
   "mimetype": "text/x-python",
   "name": "python",
   "nbconvert_exporter": "python",
   "pygments_lexer": "ipython3",
   "version": "3.13.5"
  }
 },
 "nbformat": 4,
 "nbformat_minor": 0
}
